{
 "cells": [
  {
   "cell_type": "markdown",
   "id": "508917f8",
   "metadata": {},
   "source": [
    "# Network analysis notebook\n",
    "\n",
    "This contains microbiome network analysis using Sparse Correlation Network Analysis for Compositional Data (SCNIC). This notebook does not use a QIIME environment. Instead, it uses an environment for SCNIC.\n",
    "\n",
    "I exported the `100_filtered-table.qza` artifact using \n",
    "> qiime tools export \\\n",
    "--input-path 100_filtered-table.qza \\\n",
    "--output-path 100_filtered-table.biom\n",
    "\n",
    "cleanup with\n",
    "\n",
    "> mv 100_filtered-table.biom/feature-table.biom . \\\n",
    "rm -r 100_filtered-table.biom \\\n",
    "mv feature-table.biom 100_filtered-table.biom"
   ]
  },
  {
   "cell_type": "code",
   "execution_count": 19,
   "id": "47b1c4fa",
   "metadata": {},
   "outputs": [],
   "source": [
    "import pandas as pd\n",
    "import biom\n",
    "from SCNIC import within_correls, module_analysis"
   ]
  },
  {
   "cell_type": "code",
   "execution_count": null,
   "id": "502923d5",
   "metadata": {},
   "outputs": [],
   "source": [
    "within_correls.within_correls(input_loc=\"100_filtered-table.biom\",\n",
    "                              output_loc=\"SCNIC_out\")"
   ]
  },
  {
   "cell_type": "code",
   "execution_count": null,
   "id": "b41801f5",
   "metadata": {},
   "outputs": [],
   "source": []
  }
 ],
 "metadata": {
  "kernelspec": {
   "display_name": "Python 3 (ipykernel)",
   "language": "python",
   "name": "python3"
  },
  "language_info": {
   "codemirror_mode": {
    "name": "ipython",
    "version": 3
   },
   "file_extension": ".py",
   "mimetype": "text/x-python",
   "name": "python",
   "nbconvert_exporter": "python",
   "pygments_lexer": "ipython3",
   "version": "3.9.6"
  }
 },
 "nbformat": 4,
 "nbformat_minor": 5
}
