{
 "cells": [
  {
   "cell_type": "markdown",
   "id": "088da8a6",
   "metadata": {},
   "source": [
    "# Network analysis notebook\n",
    "\n",
    "This contains microbiome network analysis using Sparse Correlation Network Analysis for Compositional Data (SCNIC). This notebook does not use a QIIME environment. Instead, it uses an environment for SCNIC.\n",
    "\n",
    "I exported the `100_filtered-table.qza` artifact using \n",
    "> qiime tools export \\\n",
    "--input-path 100_filtered-table.qza \\\n",
    "--output-path 100_filtered-table.biom\n",
    "\n",
    "cleanup with\n",
    "\n",
    "> mv 100_filtered-table.biom/feature-table.biom . \\\n",
    "rm -r 100_filtered-table.biom \\\n",
    "mv feature-table.biom 100_filtered-table.biom"
   ]
  },
  {
   "cell_type": "code",
   "execution_count": 19,
   "id": "da5293a4",
   "metadata": {},
   "outputs": [],
   "source": [
    "import pandas as pd\n",
    "import biom\n",
    "from SCNIC import module_analysis"
   ]
  },
  {
   "cell_type": "code",
   "execution_count": 3,
   "id": "d88a0651",
   "metadata": {},
   "outputs": [
    {
     "name": "stdout",
     "output_type": "stream",
     "text": [
      "/opt/anaconda3/envs/SCNIC-revisions/lib/python3.9/site-packages/statsmodels/tools/_testing.py:19: FutureWarning: pandas.util.testing is deprecated. Use the functions in the public API at pandas.testing instead.\n",
      "  import pandas.util.testing as tm\n",
      "Table loaded: 1482 observations\n",
      "\n",
      "Running SparCC iterations\n",
      "\tRunning iteration: 1\n",
      "\tRunning iteration: 2\n",
      "\tRunning iteration: 3\n",
      "\tRunning iteration: 4\n",
      "\tRunning iteration: 5\n",
      "\tRunning iteration: 6\n",
      "\tRunning iteration: 7\n",
      "\tRunning iteration: 8\n",
      "\tRunning iteration: 9\n",
      "\tRunning iteration: 10\n",
      "\tRunning iteration: 11\n",
      "\tRunning iteration: 12\n",
      "\tRunning iteration: 13\n",
      "\tRunning iteration: 14\n",
      "\tRunning iteration: 15\n",
      "\tRunning iteration: 16\n",
      "\tRunning iteration: 17\n",
      "\tRunning iteration: 18\n",
      "\tRunning iteration: 19\n",
      "\tRunning iteration: 20\n",
      "\tRunning iteration: 21\n",
      "\tRunning iteration: 22\n",
      "\tRunning iteration: 23\n",
      "\tRunning iteration: 24\n",
      "\tRunning iteration: 25\n",
      "\tRunning iteration: 26\n",
      "\tRunning iteration: 27\n",
      "\tRunning iteration: 28\n",
      "\tRunning iteration: 29\n",
      "\tRunning iteration: 30\n",
      "\tRunning iteration: 31\n",
      "\tRunning iteration: 32\n",
      "\tRunning iteration: 33\n",
      "\tRunning iteration: 34\n",
      "\tRunning iteration: 35\n",
      "\tRunning iteration: 36\n",
      "\tRunning iteration: 37\n",
      "\tRunning iteration: 38\n",
      "\tRunning iteration: 39\n",
      "\tRunning iteration: 40\n",
      "\tRunning iteration: 41\n",
      "\tRunning iteration: 42\n",
      "\tRunning iteration: 43\n",
      "\tRunning iteration: 44\n",
      "\tRunning iteration: 45\n",
      "\tRunning iteration: 46\n",
      "\tRunning iteration: 47\n",
      "\tRunning iteration: 48\n",
      "\tRunning iteration: 49\n",
      "\tRunning iteration: 50\n",
      "Calculating final SparCC correlations and covariances\n",
      "Writing out median correlation and covariance matrices\n",
      "Features Correlated\n",
      "\n",
      "Correls.txt written\n",
      "Network made\n",
      "\n"
     ]
    }
   ],
   "source": [
    "!SCNIC_analysis.py within -i 100_filtered-table.biom -o SCNIC_within_output/ -m sparcc --verbose"
   ]
  },
  {
   "cell_type": "code",
   "execution_count": 4,
   "id": "973359f1",
   "metadata": {},
   "outputs": [
    {
     "name": "stdout",
     "output_type": "stream",
     "text": [
      "/opt/anaconda3/envs/SCNIC-revisions/lib/python3.9/site-packages/statsmodels/tools/_testing.py:19: FutureWarning: pandas.util.testing is deprecated. Use the functions in the public API at pandas.testing instead.\n",
      "  import pandas.util.testing as tm\n",
      "usage: SCNIC_analysis.py modules [-h] -i INPUT_LOC [-o OUTPUT_LOC]\n",
      "                                 [--max_p MAX_P] [--min_r MIN_R]\n",
      "                                 [--method METHOD] [-k K_SIZE] [-g GAMMA]\n",
      "                                 [--table_loc TABLE_LOC] [--prefix PREFIX]\n",
      "                                 [-v]\n",
      "\n",
      "optional arguments:\n",
      "  -h, --help            show this help message and exit\n",
      "  -i INPUT_LOC, --input_loc INPUT_LOC\n",
      "                        location of output from SCNIC_analysis.py within\n",
      "                        (default: None)\n",
      "  -o OUTPUT_LOC, --output_loc OUTPUT_LOC\n",
      "                        output directory (default: None)\n",
      "  --max_p MAX_P         minimum p-value to determine edges, p must have been\n",
      "                        calculated (default: None)\n",
      "  --min_r MIN_R         minimum correlation value to determine edges (default:\n",
      "                        None)\n",
      "  --method METHOD       method to be used for determining modules, pick from:\n",
      "                        naive, k_cliques or louvain (default: naive)\n",
      "  -k K_SIZE, --k_size K_SIZE\n",
      "                        k value for use with the k-clique communities\n",
      "                        algorithm (default: 3)\n",
      "  -g GAMMA, --gamma GAMMA\n",
      "                        gamma value for use with louvain modularity\n",
      "                        maximization, between 0 and 1 where 0 makes small\n",
      "                        modules and 1 large modules (default: 0.1)\n",
      "  --table_loc TABLE_LOC\n",
      "                        biom table used to make network to be collapsed\n",
      "                        (default: None)\n",
      "  --prefix PREFIX       prefix for module names in collapsed file (default:\n",
      "                        module)\n",
      "  -v, --verbose         give verbose messages to STDOUT (default: False)\n"
     ]
    }
   ],
   "source": [
    "!SCNIC_analysis.py modules --help"
   ]
  },
  {
   "cell_type": "code",
   "execution_count": null,
   "id": "f0ff18eb",
   "metadata": {},
   "outputs": [],
   "source": [
    "-i SCNIC_within_output/correls.txt -o SCNIC_modules_output/ --min_r .35 --table 100_filtered-table.biom"
   ]
  }
 ],
 "metadata": {
  "kernelspec": {
   "display_name": "Python 3 (ipykernel)",
   "language": "python",
   "name": "python3"
  },
  "language_info": {
   "codemirror_mode": {
    "name": "ipython",
    "version": 3
   },
   "file_extension": ".py",
   "mimetype": "text/x-python",
   "name": "python",
   "nbconvert_exporter": "python",
   "pygments_lexer": "ipython3",
   "version": "3.9.6"
  }
 },
 "nbformat": 4,
 "nbformat_minor": 5
}
