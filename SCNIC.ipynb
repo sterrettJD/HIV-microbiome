{
 "cells": [
  {
   "cell_type": "markdown",
   "id": "088da8a6",
   "metadata": {},
   "source": [
    "# Network analysis notebook\n",
    "\n",
    "This contains microbiome network analysis using Sparse Correlation Network Analysis for Compositional Data (SCNIC). This notebook does not use a QIIME environment. Instead, it uses an environment for SCNIC.\n",
    "\n",
    "I created a L7 table with taxonomy with taxa < 100 reads removed using \n",
    "> qiime feature-table filter-features \\\n",
    "> --i-table tax_table.qza \\\n",
    "> --p-min-frequency 100 \\\n",
    "> --o-filtered-table L7-100-filtered-table.qza\n",
    "\n",
    "I exported the `100_filtered-table.qza` artifact using \n",
    "> qiime tools export \\\n",
    "--input-path L7-100-filtered-table.qza\\\n",
    "--output-path L7-100\n",
    "\n",
    "cleanup with\n",
    "\n",
    "> mv L7-100/feature-table.biom ./L7-100-filtered-table.biom \\\n",
    "rm -r L7-100"
   ]
  },
  {
   "cell_type": "code",
   "execution_count": 95,
   "id": "da5293a4",
   "metadata": {},
   "outputs": [],
   "source": [
    "import networkx as nx\n",
    "import matplotlib.pyplot as plt\n",
    "import matplotlib.cm as cm\n",
    "import seaborn as sns\n",
    "import numpy as np\n",
    "import pandas as pd\n",
    "import biom\n",
    "from skbio.stats.composition import ancom"
   ]
  },
  {
   "cell_type": "code",
   "execution_count": 23,
   "id": "d88a0651",
   "metadata": {},
   "outputs": [
    {
     "name": "stdout",
     "output_type": "stream",
     "text": [
      "/opt/anaconda3/envs/SCNIC-revisions/lib/python3.9/site-packages/statsmodels/tools/_testing.py:19: FutureWarning: pandas.util.testing is deprecated. Use the functions in the public API at pandas.testing instead.\n",
      "  import pandas.util.testing as tm\n",
      "Table loaded: 416 observations\n",
      "\n",
      "Running SparCC iterations\n",
      "\tRunning iteration: 1\n",
      "\tRunning iteration: 2\n",
      "\tRunning iteration: 3\n",
      "\tRunning iteration: 4\n",
      "\tRunning iteration: 5\n",
      "\tRunning iteration: 6\n",
      "\tRunning iteration: 7\n",
      "\tRunning iteration: 8\n",
      "\tRunning iteration: 9\n",
      "\tRunning iteration: 10\n",
      "\tRunning iteration: 11\n",
      "\tRunning iteration: 12\n",
      "\tRunning iteration: 13\n",
      "\tRunning iteration: 14\n",
      "\tRunning iteration: 15\n",
      "\tRunning iteration: 16\n",
      "\tRunning iteration: 17\n",
      "\tRunning iteration: 18\n",
      "\tRunning iteration: 19\n",
      "\tRunning iteration: 20\n",
      "\tRunning iteration: 21\n",
      "\tRunning iteration: 22\n",
      "\tRunning iteration: 23\n",
      "\tRunning iteration: 24\n",
      "\tRunning iteration: 25\n",
      "\tRunning iteration: 26\n",
      "\tRunning iteration: 27\n",
      "\tRunning iteration: 28\n",
      "\tRunning iteration: 29\n",
      "\tRunning iteration: 30\n",
      "\tRunning iteration: 31\n",
      "\tRunning iteration: 32\n",
      "\tRunning iteration: 33\n",
      "\tRunning iteration: 34\n",
      "\tRunning iteration: 35\n",
      "\tRunning iteration: 36\n",
      "\tRunning iteration: 37\n",
      "\tRunning iteration: 38\n",
      "\tRunning iteration: 39\n",
      "\tRunning iteration: 40\n",
      "\tRunning iteration: 41\n",
      "\tRunning iteration: 42\n",
      "\tRunning iteration: 43\n",
      "\tRunning iteration: 44\n",
      "\tRunning iteration: 45\n",
      "\tRunning iteration: 46\n",
      "\tRunning iteration: 47\n",
      "\tRunning iteration: 48\n",
      "\tRunning iteration: 49\n",
      "\tRunning iteration: 50\n",
      "Calculating final SparCC correlations and covariances\n",
      "Writing out median correlation and covariance matrices\n",
      "Features Correlated\n",
      "\n",
      "Correls.txt written\n",
      "Network made\n",
      "\n"
     ]
    }
   ],
   "source": [
    "!SCNIC_analysis.py within -i L7-100-filtered-table.biom -o SCNIC_within_output/ -m sparcc --verbose"
   ]
  },
  {
   "cell_type": "code",
   "execution_count": 24,
   "id": "db375282",
   "metadata": {},
   "outputs": [
    {
     "name": "stdout",
     "output_type": "stream",
     "text": [
      "/opt/anaconda3/envs/SCNIC-revisions/lib/python3.9/site-packages/statsmodels/tools/_testing.py:19: FutureWarning: pandas.util.testing is deprecated. Use the functions in the public API at pandas.testing instead.\n",
      "  import pandas.util.testing as tm\n",
      "correls.txt read\n",
      "Modules Formed\n",
      "number of modules: 118\n",
      "number of observations in modules: 1070\n",
      "\n",
      "otu table read\n",
      "Table Collapsed\n",
      "collapsed Table Observations: 220\n",
      "\n",
      "Network Generated\n",
      "number of nodes: 381\n",
      "number of edges: 1995\n"
     ]
    }
   ],
   "source": [
    "!SCNIC_analysis.py modules \\\n",
    "-i SCNIC_within_output/correls.txt \\\n",
    "-o SCNIC_modules_output/ \\\n",
    "--method naive \\\n",
    "--min_r .35 \\\n",
    "--table L7-100-filtered-table.biom \\\n",
    "--verbose"
   ]
  },
  {
   "cell_type": "markdown",
   "id": "9726dfc1",
   "metadata": {},
   "source": [
    "## Load in data"
   ]
  },
  {
   "cell_type": "code",
   "execution_count": 25,
   "id": "bbd4cb9f",
   "metadata": {},
   "outputs": [],
   "source": [
    "G = nx.read_gml(\"SCNIC_modules_output/correlation_network.gml\")\n",
    "modules = pd.read_csv(\"SCNIC_modules_output/modules.txt\", header=None, sep=\"\\t\", index_col=0)"
   ]
  },
  {
   "cell_type": "code",
   "execution_count": 70,
   "id": "318808bc",
   "metadata": {},
   "outputs": [],
   "source": [
    "# only consider modules with >3 members\n",
    "filt_modules = modules.loc[modules.notna().sum(axis=1)>3] "
   ]
  },
  {
   "cell_type": "code",
   "execution_count": 71,
   "id": "e7d07d3f",
   "metadata": {
    "scrolled": true
   },
   "outputs": [],
   "source": [
    "modules_melted = pd.melt(filt_modules.reset_index(), id_vars=0)\n",
    "modules_melted.columns = [\"module\", \"IGNORE\",\"taxon\"]\n",
    "modules_melted = modules_melted.set_index(\"taxon\")"
   ]
  },
  {
   "cell_type": "markdown",
   "id": "35869fb5",
   "metadata": {},
   "source": [
    "## Draw network"
   ]
  },
  {
   "cell_type": "code",
   "execution_count": 91,
   "id": "3f7a3f30",
   "metadata": {},
   "outputs": [
    {
     "data": {
      "image/png": "[encoded data removed]",
      "text/plain": [
       "<Figure size 432x288 with 1 Axes>"
      ]
     },
     "metadata": {},
     "output_type": "display_data"
    }
   ],
   "source": [
    "pos = nx.spring_layout(G)\n",
    "\n",
    "color_list = []\n",
    "to_remove = []\n",
    "for node in G:\n",
    "    if node in modules_melted.index:\n",
    "        color_list.append(int(modules_melted.loc[node,\"module\"].split(\"_\")[1]))\n",
    "    else:\n",
    "        to_remove.append(node)\n",
    "\n",
    "for node in to_remove:\n",
    "    G.remove_node(node)\n",
    "        \n",
    "        \n",
    "cmap = cm.get_cmap('tab20')\n",
    "\n",
    "nx.draw(G, pos, cmap=cmap, node_color=color_list, node_size=120)\n",
    "\n",
    "for module in filt_modules.index:\n",
    "    mod_contents = modules.loc[module].dropna().to_list()\n",
    "    avg_x = sum([pos[node][0] for node in mod_contents])/len(mod_contents)\n",
    "    avg_y = sum([pos[node][1] for node in mod_contents])/len(mod_contents)\n",
    "    plt.annotate(module.split(\"_\")[1],\n",
    "                xy=(avg_x,avg_y))"
   ]
  },
  {
   "cell_type": "markdown",
   "id": "22b53fa2",
   "metadata": {},
   "source": [
    "## Testing"
   ]
  },
  {
   "cell_type": "code",
   "execution_count": 109,
   "id": "a1346abb",
   "metadata": {},
   "outputs": [],
   "source": [
    "collapsed_table = biom.load_table(\"SCNIC_modules_output/collapsed.biom\").to_dataframe()\n",
    "modules_table = collapsed_table.loc[modules.index].T\n",
    "modules_table = modules_table.apply(lambda x: x+0.01)"
   ]
  },
  {
   "cell_type": "code",
   "execution_count": 114,
   "id": "f3df7b06",
   "metadata": {},
   "outputs": [],
   "source": [
    "metadata = pd.read_csv(\"metadata.txt\", sep=\"\\t\", index_col=\"SampleID\")\n",
    "metadata = metadata.loc[modules_table.index]"
   ]
  },
  {
   "cell_type": "code",
   "execution_count": 116,
   "id": "c2d38cb7",
   "metadata": {},
   "outputs": [],
   "source": [
    "res, percentiles = ancom(modules_table,metadata[\"HIV\"])"
   ]
  },
  {
   "cell_type": "code",
   "execution_count": 119,
   "id": "eea54880",
   "metadata": {},
   "outputs": [
    {
     "data": {
      "text/html": [
       "<div>\n",
       "<style scoped>\n",
       "    .dataframe tbody tr th:only-of-type {\n",
       "        vertical-align: middle;\n",
       "    }\n",
       "\n",
       "    .dataframe tbody tr th {\n",
       "        vertical-align: top;\n",
       "    }\n",
       "\n",
       "    .dataframe thead th {\n",
       "        text-align: right;\n",
       "    }\n",
       "</style>\n",
       "<table border=\"1\" class=\"dataframe\">\n",
       "  <thead>\n",
       "    <tr style=\"text-align: right;\">\n",
       "      <th></th>\n",
       "      <th>W</th>\n",
       "      <th>Reject null hypothesis</th>\n",
       "    </tr>\n",
       "    <tr>\n",
       "      <th>0</th>\n",
       "      <th></th>\n",
       "      <th></th>\n",
       "    </tr>\n",
       "  </thead>\n",
       "  <tbody>\n",
       "    <tr>\n",
       "      <th>module_17</th>\n",
       "      <td>80</td>\n",
       "      <td>True</td>\n",
       "    </tr>\n",
       "  </tbody>\n",
       "</table>\n",
       "</div>"
      ],
      "text/plain": [
       "            W  Reject null hypothesis\n",
       "0                                    \n",
       "module_17  80                    True"
      ]
     },
     "execution_count": 119,
     "metadata": {},
     "output_type": "execute_result"
    }
   ],
   "source": [
    "res.loc[res[\"Reject null hypothesis\"]==True]"
   ]
  },
  {
   "cell_type": "code",
   "execution_count": 122,
   "id": "dc5a6c8a",
   "metadata": {},
   "outputs": [],
   "source": [
    "modules_table_mat = np.matrix(modules_table)\n",
    "modules_table_mat /= np.sum(modules_table_mat,axis=1)\n",
    "modules_composition = pd.DataFrame(modules_table_mat, index=modules_table.index, \n",
    "                                   columns=modules_table.columns)"
   ]
  },
  {
   "cell_type": "code",
   "execution_count": 131,
   "id": "2359d264",
   "metadata": {},
   "outputs": [
    {
     "data": {
      "image/png": "[encoded data removed]",
      "text/plain": [
       "<Figure size 432x288 with 1 Axes>"
      ]
     },
     "metadata": {
      "needs_background": "light"
     },
     "output_type": "display_data"
    }
   ],
   "source": [
    "ax = sns.boxplot(x=metadata[\"HIV\"], \n",
    "            y=modules_composition[\"module_17\"],\n",
    "            order=[\"No\", \"Yes\"],\n",
    "            palette=[\"royalblue\", \"red\"])\n",
    "ax.set_title(\"Module 17\")\n",
    "ax.set_ylabel(\"Relative abundance\")\n",
    "plt.show()"
   ]
  },
  {
   "cell_type": "code",
   "execution_count": 133,
   "id": "055929eb",
   "metadata": {},
   "outputs": [
    {
     "name": "stdout",
     "output_type": "stream",
     "text": [
      "d__Bacteria;p__Bacteroidota;c__Bacteroidia;o__Bacteroidales;f__Prevotellaceae;g__Prevotella;__\n",
      "d__Bacteria;p__Bacteroidota;c__Bacteroidia;o__Bacteroidales;f__Prevotellaceae;g__Alloprevotella;s__Prevotellaceae_bacterium\n",
      "d__Bacteria;p__Bacteroidota;c__Bacteroidia;o__Bacteroidales;f__uncultured;g__uncultured;s__gut_metagenome\n",
      "d__Bacteria;p__Actinobacteriota;c__Coriobacteriia;o__Coriobacteriales;f__Atopobiaceae;g__Libanicoccus;s__Libanicoccus_massiliensis\n"
     ]
    }
   ],
   "source": [
    "for tax in modules.loc[\"module_17\"].dropna():\n",
    "    print(tax)"
   ]
  },
  {
   "cell_type": "code",
   "execution_count": null,
   "id": "e999a50b",
   "metadata": {},
   "outputs": [],
   "source": []
  }
 ],
 "metadata": {
  "kernelspec": {
   "display_name": "Python 3 (ipykernel)",
   "language": "python",
   "name": "python3"
  },
  "language_info": {
   "codemirror_mode": {
    "name": "ipython",
    "version": 3
   },
   "file_extension": ".py",
   "mimetype": "text/x-python",
   "name": "python",
   "nbconvert_exporter": "python",
   "pygments_lexer": "ipython3",
   "version": "3.9.6"
  }
 },
 "nbformat": 4,
 "nbformat_minor": 5
}
