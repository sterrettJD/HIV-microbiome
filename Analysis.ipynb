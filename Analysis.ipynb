{
 "cells": [
  {
   "cell_type": "markdown",
   "id": "922c2b2c",
   "metadata": {},
   "source": [
    "# Gut Microbiome of HIV+ Individuals in Rural Appalachia"
   ]
  },
  {
   "cell_type": "code",
   "execution_count": 1,
   "id": "038f52da",
   "metadata": {},
   "outputs": [
    {
     "name": "stdout",
     "output_type": "stream",
     "text": [
      "\u001b[32mSystem versions\u001b[0m\n",
      "Python version: 3.8.12\n",
      "QIIME 2 release: 2021.11\n",
      "QIIME 2 version: 2021.11.0\n",
      "q2cli version: 2021.11.0\n",
      "\u001b[32m\n",
      "Installed plugins\u001b[0m\n",
      "alignment: 2021.11.0\n",
      "composition: 2021.11.0\n",
      "cutadapt: 2021.11.0\n",
      "dada2: 2021.11.0\n",
      "deblur: 2021.11.0\n",
      "demux: 2021.11.0\n",
      "diversity: 2021.11.0\n",
      "diversity-lib: 2021.11.0\n",
      "emperor: 2021.11.0\n",
      "feature-classifier: 2021.11.0\n",
      "feature-table: 2021.11.0\n",
      "fragment-insertion: 2021.11.0\n",
      "gneiss: 2021.11.0\n",
      "longitudinal: 2021.11.0\n",
      "metadata: 2021.11.0\n",
      "phylogeny: 2021.11.0\n",
      "quality-control: 2021.11.0\n",
      "quality-filter: 2021.11.0\n",
      "sample-classifier: 2021.11.0\n",
      "taxa: 2021.11.0\n",
      "types: 2021.11.0\n",
      "vsearch: 2021.11.0\n",
      "\u001b[32m\n",
      "Application config directory\u001b[0m\n",
      "/Users/johnsterrett/mambaforge/envs/qiime2-2021.11/var/q2cli\u001b[0m\n",
      "\u001b[32m\n",
      "Getting help\u001b[0m\n",
      "To get help with QIIME 2, visit https://qiime2.org\u001b[0m\n"
     ]
    }
   ],
   "source": [
    "!qiime info"
   ]
  },
  {
   "cell_type": "code",
   "execution_count": 92,
   "id": "07bce670",
   "metadata": {},
   "outputs": [],
   "source": [
    "import os\n",
    "import sys\n",
    "import subprocess\n",
    "\n",
    "from qiime2 import Artifact, Visualization\n",
    "import pandas as pd\n",
    "import matplotlib.pyplot as plt\n",
    "import seaborn as sns\n",
    "import numpy as np\n",
    "\n",
    "%matplotlib inline"
   ]
  },
  {
   "cell_type": "markdown",
   "id": "3801bd81",
   "metadata": {},
   "source": [
    "## Initial processing\n",
    "### Unzip files"
   ]
  },
  {
   "cell_type": "markdown",
   "id": "caba0d32",
   "metadata": {},
   "source": [
    "`outputs = []\n",
    "for zipped in os.listdir(\"hiv-fastqs/\"):\n",
    "    bashCommand = f\"unzip hiv-fastqs/{zipped} -d hiv-fastqs/\"\n",
    "    process = subprocess.Popen(bashCommand.split(), stdout=subprocess.PIPE)\n",
    "    output, error = process.communicate()\n",
    "    outputs.append((output,error))\n",
    "`    "
   ]
  },
  {
   "cell_type": "markdown",
   "id": "cb11fcc3",
   "metadata": {},
   "source": [
    "`! rm hiv-fastqs/*.zip`"
   ]
  },
  {
   "cell_type": "markdown",
   "id": "cd1a12c6",
   "metadata": {},
   "source": [
    "### Import data to qiime2 artifact"
   ]
  },
  {
   "cell_type": "markdown",
   "id": "282fe815",
   "metadata": {},
   "source": [
    "`! qiime tools import \\\n",
    "--type 'SampleData[PairedEndSequencesWithQuality]' \\\n",
    "--input-path hiv-fastqs/ \\\n",
    "--input-format CasavaOneEightSingleLanePerSampleDirFmt \\\n",
    "--output-path demux-paired-end.qza`"
   ]
  },
  {
   "cell_type": "markdown",
   "id": "24919753",
   "metadata": {},
   "source": [
    "### Summarize the imported data"
   ]
  },
  {
   "cell_type": "markdown",
   "id": "ff425558",
   "metadata": {},
   "source": [
    "`! qiime demux summarize \\\n",
    "--i-data demux-paired-end.qza \\\n",
    "--o-visualization paired-end-summarized.qzv`"
   ]
  },
  {
   "cell_type": "code",
   "execution_count": 3,
   "id": "de04a73f",
   "metadata": {},
   "outputs": [
    {
     "data": {
      "text/html": [
       "<div><img onload=\"(function(div, url){\n",
       "if (typeof require !== 'undefined') {\n",
       "    var baseURL = require.toUrl('').split('/').slice(0, -2).join('/');\n",
       "} else {\n",
       "    var baseURL = JSON.parse(\n",
       "        document.getElementById('jupyter-config-data').innerHTML\n",
       "    ).baseUrl.slice(0, -1);\n",
       "}\n",
       "url = baseURL + url;\n",
       "fetch(url).then(function(res) {\n",
       "    if (res.status === 404) {\n",
       "        div.innerHTML = 'Install QIIME 2 Jupyter extension with:<br />' +\n",
       "                        '<code>jupyter serverextension enable --py qiime2' +\n",
       "                        ' --sys-prefix</code><br />then restart your server.' +\n",
       "                        '<br /><br />(Interactive output not available on ' +\n",
       "                        'static notebook viewer services like nbviewer.)';\n",
       "    } else if (res.status === 409) {\n",
       "        div.innerHTML = 'Visualization no longer in scope. Re-run this cell' +\n",
       "                        ' to see the visualization.';\n",
       "    } else if (res.ok) {\n",
       "        url = res.url;\n",
       "        div.innerHTML = '<iframe src=\\'' + url + '\\' style=\\'' +\n",
       "                        'width: 100%; height: 700px; border: 0;\\'>' +\n",
       "                        '</iframe><hr />Open in a: <a href=\\'' + url + '\\'' +\n",
       "                        ' target=\\'_blank\\'>new window</a>'\n",
       "    } else {\n",
       "        div.innerHTML = 'Something has gone wrong. Check notebook server for' +\n",
       "                        ' errors.';\n",
       "    }\n",
       "});\n",
       "})(this.parentElement, '/qiime2/redirect?location=/var/folders/wp/9dsg4hm50lg540x82g1bht1r0000gn/T/qiime2-archive-301ao53z')\" src=\"data:image/gif;base64,R0lGODlhAQABAIAAAP///wAAACH5BAEAAAAALAAAAAABAAEAAAICRAEAOw==\" /></div>"
      ],
      "text/plain": [
       "<visualization: Visualization uuid: 93906a1a-5d08-48cc-9412-c0c4fb49e9c0>"
      ]
     },
     "execution_count": 3,
     "metadata": {},
     "output_type": "execute_result"
    }
   ],
   "source": [
    "viz = Visualization.load(\"paired-end-summarized.qzv\")\n",
    "viz"
   ]
  },
  {
   "cell_type": "markdown",
   "id": "6df99a02",
   "metadata": {},
   "source": [
    "**Thoughts** - forward\n",
    "\n",
    "- Overall sequence quality looks awesome. \n",
    "- Looks like quality dips over the first 19 reads, which could be primers, so I'll just trim those off.\n",
    "- Looks like it dips at the very end too. At bp 269, 25 percentile of PHRED is still >30, so I'll truncate there.\n",
    "\n",
    "Trimming at 19 and 269 still gives us 250 bp - well more than we need, so that's good!\n",
    "\n",
    "**Thoughts** - reverse\n",
    "- Overall sequence quality looks good. \n",
    "- Not sure if the sequencing folks used reverse primers, so I'll trim at 19 again to be safe. Need to check in on this.\n",
    "- Looks like it dips as it goes on. At bp 240, 50th percentile of PHRED starting to drop < 30, so I'll truncate there.\n",
    "\n",
    "Trimming at 19 and 240 still gives us 221 bp - well more than we need, so that's good!"
   ]
  },
  {
   "cell_type": "markdown",
   "id": "ddbd7c4a",
   "metadata": {},
   "source": [
    "## Denoise using dada2"
   ]
  },
  {
   "cell_type": "markdown",
   "id": "f4244b64",
   "metadata": {},
   "source": [
    "`! qiime dada2 denoise-paired \\\n",
    "--i-demultiplexed-seqs demux-paired-end.qza \\\n",
    "--p-trim-left-f 19 \\\n",
    "--p-trunc-len-f 269 \\\n",
    "--p-trim-left-r 19 \\\n",
    "--p-trunc-len-r 240 \\\n",
    "--output-dir dada2-out \\\n",
    "--verbose`"
   ]
  },
  {
   "cell_type": "markdown",
   "id": "86435537",
   "metadata": {},
   "source": [
    "`! qiime feature-table summarize \\\n",
    "--i-table dada2-out/table.qza \\\n",
    "--m-sample-metadata-file metadata.txt \\\n",
    "--o-visualization dada2-out/table.qzv`"
   ]
  },
  {
   "cell_type": "code",
   "execution_count": 30,
   "id": "ad9e2fda",
   "metadata": {},
   "outputs": [
    {
     "data": {
      "text/html": [
       "<div><img onload=\"(function(div, url){\n",
       "if (typeof require !== 'undefined') {\n",
       "    var baseURL = require.toUrl('').split('/').slice(0, -2).join('/');\n",
       "} else {\n",
       "    var baseURL = JSON.parse(\n",
       "        document.getElementById('jupyter-config-data').innerHTML\n",
       "    ).baseUrl.slice(0, -1);\n",
       "}\n",
       "url = baseURL + url;\n",
       "fetch(url).then(function(res) {\n",
       "    if (res.status === 404) {\n",
       "        div.innerHTML = 'Install QIIME 2 Jupyter extension with:<br />' +\n",
       "                        '<code>jupyter serverextension enable --py qiime2' +\n",
       "                        ' --sys-prefix</code><br />then restart your server.' +\n",
       "                        '<br /><br />(Interactive output not available on ' +\n",
       "                        'static notebook viewer services like nbviewer.)';\n",
       "    } else if (res.status === 409) {\n",
       "        div.innerHTML = 'Visualization no longer in scope. Re-run this cell' +\n",
       "                        ' to see the visualization.';\n",
       "    } else if (res.ok) {\n",
       "        url = res.url;\n",
       "        div.innerHTML = '<iframe src=\\'' + url + '\\' style=\\'' +\n",
       "                        'width: 100%; height: 700px; border: 0;\\'>' +\n",
       "                        '</iframe><hr />Open in a: <a href=\\'' + url + '\\'' +\n",
       "                        ' target=\\'_blank\\'>new window</a>'\n",
       "    } else {\n",
       "        div.innerHTML = 'Something has gone wrong. Check notebook server for' +\n",
       "                        ' errors.';\n",
       "    }\n",
       "});\n",
       "})(this.parentElement, '/qiime2/redirect?location=/var/folders/wp/9dsg4hm50lg540x82g1bht1r0000gn/T/qiime2-archive-0orq2q2r')\" src=\"data:image/gif;base64,R0lGODlhAQABAIAAAP///wAAACH5BAEAAAAALAAAAAABAAEAAAICRAEAOw==\" /></div>"
      ],
      "text/plain": [
       "<visualization: Visualization uuid: 46b579bf-281c-4673-bf0e-88349ac5606e>"
      ]
     },
     "execution_count": 30,
     "metadata": {},
     "output_type": "execute_result"
    }
   ],
   "source": [
    "viz = Visualization.load(\"dada2-out/table.qzv\")\n",
    "viz"
   ]
  },
  {
   "cell_type": "markdown",
   "id": "a05bd478",
   "metadata": {},
   "source": [
    "## SEPP fragment insertion for phylogenetic tree"
   ]
  },
  {
   "cell_type": "markdown",
   "id": "338b217b",
   "metadata": {},
   "source": [
    "> ! qiime fragment-insertion sepp \\\n",
    "--i-representative-sequences dada2-out/representative_sequences.qza \\\n",
    "--i-reference-database sepp-refs-silva-128.qza \\\n",
    "--o-tree insertion-tree.qza \\\n",
    "--o-placements insertion-placements.qza"
   ]
  },
  {
   "cell_type": "markdown",
   "id": "4f6575e8",
   "metadata": {},
   "source": [
    "> ! qiime fragment-insertion filter-features \\\n",
    "--i-table dada2-out/table.qza \\\n",
    "--i-tree insertion-tree.qza \\\n",
    "--o-filtered-table filtered-table.qza \\\n",
    "--o-removed-table removed-table.qza"
   ]
  },
  {
   "cell_type": "markdown",
   "id": "27c16d7b",
   "metadata": {},
   "source": [
    "## Assigning taxonomy"
   ]
  },
  {
   "cell_type": "markdown",
   "id": "d246b13d",
   "metadata": {},
   "source": [
    "> ! qiime feature-classifier classify-sklearn \\\n",
    "--i-reads dada2-out/representative_sequences.qza \\\n",
    "--i-classifier silva-138-99-515-806-nb-classifier.qza \\\n",
    "--output-dir silva-classified"
   ]
  },
  {
   "cell_type": "markdown",
   "id": "8b527e7b",
   "metadata": {},
   "source": [
    "> ! qiime metadata tabulate \\\n",
    "--m-input-file silva-classified/classification.qza \\\n",
    "--o-visualization silva-classified/classification.qzv"
   ]
  },
  {
   "cell_type": "markdown",
   "id": "92de9a04",
   "metadata": {},
   "source": [
    ">! mv silva-classified/classification.qza taxonomy-silva.qza \n",
    "\n",
    ">! mv silva-classified/classification.qzv taxonomy-silva.qzv"
   ]
  },
  {
   "cell_type": "code",
   "execution_count": 22,
   "id": "aea82cd7",
   "metadata": {},
   "outputs": [
    {
     "data": {
      "text/html": [
       "<div><img onload=\"(function(div, url){\n",
       "if (typeof require !== 'undefined') {\n",
       "    var baseURL = require.toUrl('').split('/').slice(0, -2).join('/');\n",
       "} else {\n",
       "    var baseURL = JSON.parse(\n",
       "        document.getElementById('jupyter-config-data').innerHTML\n",
       "    ).baseUrl.slice(0, -1);\n",
       "}\n",
       "url = baseURL + url;\n",
       "fetch(url).then(function(res) {\n",
       "    if (res.status === 404) {\n",
       "        div.innerHTML = 'Install QIIME 2 Jupyter extension with:<br />' +\n",
       "                        '<code>jupyter serverextension enable --py qiime2' +\n",
       "                        ' --sys-prefix</code><br />then restart your server.' +\n",
       "                        '<br /><br />(Interactive output not available on ' +\n",
       "                        'static notebook viewer services like nbviewer.)';\n",
       "    } else if (res.status === 409) {\n",
       "        div.innerHTML = 'Visualization no longer in scope. Re-run this cell' +\n",
       "                        ' to see the visualization.';\n",
       "    } else if (res.ok) {\n",
       "        url = res.url;\n",
       "        div.innerHTML = '<iframe src=\\'' + url + '\\' style=\\'' +\n",
       "                        'width: 100%; height: 700px; border: 0;\\'>' +\n",
       "                        '</iframe><hr />Open in a: <a href=\\'' + url + '\\'' +\n",
       "                        ' target=\\'_blank\\'>new window</a>'\n",
       "    } else {\n",
       "        div.innerHTML = 'Something has gone wrong. Check notebook server for' +\n",
       "                        ' errors.';\n",
       "    }\n",
       "});\n",
       "})(this.parentElement, '/qiime2/redirect?location=/var/folders/wp/9dsg4hm50lg540x82g1bht1r0000gn/T/qiime2-archive-p5p813w9')\" src=\"data:image/gif;base64,R0lGODlhAQABAIAAAP///wAAACH5BAEAAAAALAAAAAABAAEAAAICRAEAOw==\" /></div>"
      ],
      "text/plain": [
       "<visualization: Visualization uuid: dd486f8b-be31-4bbc-a3f9-83eab4508284>"
      ]
     },
     "execution_count": 22,
     "metadata": {},
     "output_type": "execute_result"
    }
   ],
   "source": [
    "viz = Visualization.load('taxonomy-silva.qzv')\n",
    "viz"
   ]
  },
  {
   "cell_type": "markdown",
   "id": "11b444a3",
   "metadata": {},
   "source": [
    "## Filter mitochondria and chloroplast"
   ]
  },
  {
   "cell_type": "markdown",
   "id": "3c3a5ecd",
   "metadata": {},
   "source": [
    ">! qiime taxa filter-table \\\n",
    "  --i-table filtered-table.qza \\\n",
    "  --i-taxonomy taxonomy-silva.qza \\\n",
    "  --p-exclude mitochondria,chloroplast \\\n",
    "  --o-filtered-table noMito_noChloro-filtered-table.qza "
   ]
  },
  {
   "cell_type": "code",
   "execution_count": 29,
   "id": "3b1303c0",
   "metadata": {},
   "outputs": [
    {
     "name": "stdout",
     "output_type": "stream",
     "text": [
      "filtered by sepp: 0.0\n",
      "filtered by Mito/Chloro: 256.0\n"
     ]
    }
   ],
   "source": [
    "dada2_table = Artifact.load('dada2-out/table.qza')\n",
    "filtered_table = Artifact.load('filtered-table.qza')\n",
    "no_M_C_table = Artifact.load('noMito_noChloro-filtered-table.qza')\n",
    "\n",
    "df_tab = dada2_table.view(pd.DataFrame)\n",
    "df_filt = filtered_table.view(pd.DataFrame)\n",
    "df_MC = no_M_C_table.view(pd.DataFrame)\n",
    "\n",
    "tables = ['df_tab', 'df_filt', 'df_MC']\n",
    "\n",
    "\n",
    "total_frequencies = {x: globals()[x].values.sum() for x in tables}\n",
    "\n",
    "\n",
    "print('filtered by sepp: {}'.format(total_frequencies['df_tab']-total_frequencies['df_filt']))\n",
    "print('filtered by Mito/Chloro: {}'.format(total_frequencies['df_filt']-total_frequencies['df_MC']))"
   ]
  },
  {
   "cell_type": "markdown",
   "id": "11bb0b58",
   "metadata": {},
   "source": [
    "## Taxa barplot"
   ]
  },
  {
   "cell_type": "markdown",
   "id": "c13722a9",
   "metadata": {},
   "source": [
    ">! qiime taxa barplot \\\n",
    "--i-table noMito_noChloro-filtered-table.qza \\\n",
    "--i-taxonomy taxonomy-silva.qza \\\n",
    "--m-metadata-file metadata.txt \\\n",
    "--o-visualization taxa-barplot.qzv"
   ]
  },
  {
   "cell_type": "code",
   "execution_count": 25,
   "id": "c29c8250",
   "metadata": {},
   "outputs": [
    {
     "data": {
      "text/html": [
       "<div><img onload=\"(function(div, url){\n",
       "if (typeof require !== 'undefined') {\n",
       "    var baseURL = require.toUrl('').split('/').slice(0, -2).join('/');\n",
       "} else {\n",
       "    var baseURL = JSON.parse(\n",
       "        document.getElementById('jupyter-config-data').innerHTML\n",
       "    ).baseUrl.slice(0, -1);\n",
       "}\n",
       "url = baseURL + url;\n",
       "fetch(url).then(function(res) {\n",
       "    if (res.status === 404) {\n",
       "        div.innerHTML = 'Install QIIME 2 Jupyter extension with:<br />' +\n",
       "                        '<code>jupyter serverextension enable --py qiime2' +\n",
       "                        ' --sys-prefix</code><br />then restart your server.' +\n",
       "                        '<br /><br />(Interactive output not available on ' +\n",
       "                        'static notebook viewer services like nbviewer.)';\n",
       "    } else if (res.status === 409) {\n",
       "        div.innerHTML = 'Visualization no longer in scope. Re-run this cell' +\n",
       "                        ' to see the visualization.';\n",
       "    } else if (res.ok) {\n",
       "        url = res.url;\n",
       "        div.innerHTML = '<iframe src=\\'' + url + '\\' style=\\'' +\n",
       "                        'width: 100%; height: 700px; border: 0;\\'>' +\n",
       "                        '</iframe><hr />Open in a: <a href=\\'' + url + '\\'' +\n",
       "                        ' target=\\'_blank\\'>new window</a>'\n",
       "    } else {\n",
       "        div.innerHTML = 'Something has gone wrong. Check notebook server for' +\n",
       "                        ' errors.';\n",
       "    }\n",
       "});\n",
       "})(this.parentElement, '/qiime2/redirect?location=/var/folders/wp/9dsg4hm50lg540x82g1bht1r0000gn/T/qiime2-archive-ejytj80b')\" src=\"data:image/gif;base64,R0lGODlhAQABAIAAAP///wAAACH5BAEAAAAALAAAAAABAAEAAAICRAEAOw==\" /></div>"
      ],
      "text/plain": [
       "<visualization: Visualization uuid: 62bb5b5c-f10a-4c3d-aea2-c7ed6a71db4e>"
      ]
     },
     "execution_count": 25,
     "metadata": {},
     "output_type": "execute_result"
    }
   ],
   "source": [
    "viz = Visualization.load(\"taxa-barplot.qzv\")\n",
    "viz"
   ]
  },
  {
   "cell_type": "markdown",
   "id": "cc8ecef8",
   "metadata": {},
   "source": [
    "## Diversity testing"
   ]
  },
  {
   "cell_type": "markdown",
   "id": "c6efe241",
   "metadata": {},
   "source": [
    "### Core metrics"
   ]
  },
  {
   "cell_type": "markdown",
   "id": "e3f35bcd",
   "metadata": {},
   "source": [
    ">! qiime diversity core-metrics-phylogenetic \\\n",
    "  --i-phylogeny insertion-tree.qza \\\n",
    "  --i-table noMito_noChloro-filtered-table.qza \\\n",
    "  --p-sampling-depth 52495 \\\n",
    "  --m-metadata-file metadata.txt \\\n",
    "  --output-dir core-diversity-results"
   ]
  },
  {
   "cell_type": "markdown",
   "id": "2dfe3255",
   "metadata": {},
   "source": [
    "### Rarefaction"
   ]
  },
  {
   "cell_type": "markdown",
   "id": "cb420d43",
   "metadata": {},
   "source": [
    ">! qiime diversity alpha-rarefaction \\\n",
    "  --i-table noMito_noChloro-filtered-table.qza \\\n",
    "  --i-phylogeny insertion-tree.qza \\\n",
    "  --p-max-depth 80000 \\\n",
    "  --o-visualization core-diversity-results/alpha-rarefaction.qzv"
   ]
  },
  {
   "cell_type": "code",
   "execution_count": 33,
   "id": "f4a04f46",
   "metadata": {},
   "outputs": [
    {
     "data": {
      "text/html": [
       "<div><img onload=\"(function(div, url){\n",
       "if (typeof require !== 'undefined') {\n",
       "    var baseURL = require.toUrl('').split('/').slice(0, -2).join('/');\n",
       "} else {\n",
       "    var baseURL = JSON.parse(\n",
       "        document.getElementById('jupyter-config-data').innerHTML\n",
       "    ).baseUrl.slice(0, -1);\n",
       "}\n",
       "url = baseURL + url;\n",
       "fetch(url).then(function(res) {\n",
       "    if (res.status === 404) {\n",
       "        div.innerHTML = 'Install QIIME 2 Jupyter extension with:<br />' +\n",
       "                        '<code>jupyter serverextension enable --py qiime2' +\n",
       "                        ' --sys-prefix</code><br />then restart your server.' +\n",
       "                        '<br /><br />(Interactive output not available on ' +\n",
       "                        'static notebook viewer services like nbviewer.)';\n",
       "    } else if (res.status === 409) {\n",
       "        div.innerHTML = 'Visualization no longer in scope. Re-run this cell' +\n",
       "                        ' to see the visualization.';\n",
       "    } else if (res.ok) {\n",
       "        url = res.url;\n",
       "        div.innerHTML = '<iframe src=\\'' + url + '\\' style=\\'' +\n",
       "                        'width: 100%; height: 700px; border: 0;\\'>' +\n",
       "                        '</iframe><hr />Open in a: <a href=\\'' + url + '\\'' +\n",
       "                        ' target=\\'_blank\\'>new window</a>'\n",
       "    } else {\n",
       "        div.innerHTML = 'Something has gone wrong. Check notebook server for' +\n",
       "                        ' errors.';\n",
       "    }\n",
       "});\n",
       "})(this.parentElement, '/qiime2/redirect?location=/var/folders/wp/9dsg4hm50lg540x82g1bht1r0000gn/T/qiime2-archive-fjgv47r7')\" src=\"data:image/gif;base64,R0lGODlhAQABAIAAAP///wAAACH5BAEAAAAALAAAAAABAAEAAAICRAEAOw==\" /></div>"
      ],
      "text/plain": [
       "<visualization: Visualization uuid: 40c7a712-1c89-4a11-81ba-5dd737a02ef9>"
      ]
     },
     "execution_count": 33,
     "metadata": {},
     "output_type": "execute_result"
    }
   ],
   "source": [
    "viz = Visualization.load('core-diversity-results/alpha-rarefaction.qzv')\n",
    "viz"
   ]
  },
  {
   "cell_type": "markdown",
   "id": "9252a5aa",
   "metadata": {},
   "source": [
    "### Alpha diversity statistical testing"
   ]
  },
  {
   "cell_type": "markdown",
   "id": "27bc57b4",
   "metadata": {},
   "source": [
    ">! qiime diversity alpha-group-significance \\\n",
    "--i-alpha-diversity core-diversity-results/faith_pd_vector.qza \\\n",
    "--m-metadata-file metadata.txt \\\n",
    "--o-visualization core-diversity-results/faith-pd-group-significance.qzv"
   ]
  },
  {
   "cell_type": "markdown",
   "id": "e662be7c",
   "metadata": {},
   "source": [
    ">! qiime diversity alpha-correlation \\\n",
    "--i-alpha-diversity core-diversity-results/faith_pd_vector.qza \\\n",
    "--m-metadata-file metadata.txt \\\n",
    "--o-visualization core-diversity-results/faith-pd-correlation.qzv"
   ]
  },
  {
   "cell_type": "code",
   "execution_count": 44,
   "id": "c56aacf5",
   "metadata": {},
   "outputs": [
    {
     "data": {
      "text/html": [
       "<div><img onload=\"(function(div, url){\n",
       "if (typeof require !== 'undefined') {\n",
       "    var baseURL = require.toUrl('').split('/').slice(0, -2).join('/');\n",
       "} else {\n",
       "    var baseURL = JSON.parse(\n",
       "        document.getElementById('jupyter-config-data').innerHTML\n",
       "    ).baseUrl.slice(0, -1);\n",
       "}\n",
       "url = baseURL + url;\n",
       "fetch(url).then(function(res) {\n",
       "    if (res.status === 404) {\n",
       "        div.innerHTML = 'Install QIIME 2 Jupyter extension with:<br />' +\n",
       "                        '<code>jupyter serverextension enable --py qiime2' +\n",
       "                        ' --sys-prefix</code><br />then restart your server.' +\n",
       "                        '<br /><br />(Interactive output not available on ' +\n",
       "                        'static notebook viewer services like nbviewer.)';\n",
       "    } else if (res.status === 409) {\n",
       "        div.innerHTML = 'Visualization no longer in scope. Re-run this cell' +\n",
       "                        ' to see the visualization.';\n",
       "    } else if (res.ok) {\n",
       "        url = res.url;\n",
       "        div.innerHTML = '<iframe src=\\'' + url + '\\' style=\\'' +\n",
       "                        'width: 100%; height: 700px; border: 0;\\'>' +\n",
       "                        '</iframe><hr />Open in a: <a href=\\'' + url + '\\'' +\n",
       "                        ' target=\\'_blank\\'>new window</a>'\n",
       "    } else {\n",
       "        div.innerHTML = 'Something has gone wrong. Check notebook server for' +\n",
       "                        ' errors.';\n",
       "    }\n",
       "});\n",
       "})(this.parentElement, '/qiime2/redirect?location=/var/folders/wp/9dsg4hm50lg540x82g1bht1r0000gn/T/qiime2-archive-kzexdyfd')\" src=\"data:image/gif;base64,R0lGODlhAQABAIAAAP///wAAACH5BAEAAAAALAAAAAABAAEAAAICRAEAOw==\" /></div>"
      ],
      "text/plain": [
       "<visualization: Visualization uuid: a47458d4-37d1-4097-9e75-a2bf99b65519>"
      ]
     },
     "execution_count": 44,
     "metadata": {},
     "output_type": "execute_result"
    }
   ],
   "source": [
    "viz = Visualization.load(\"core-diversity-results/faith-pd-group-significance.qzv\")\n",
    "viz"
   ]
  },
  {
   "cell_type": "code",
   "execution_count": 43,
   "id": "acacce16",
   "metadata": {},
   "outputs": [
    {
     "data": {
      "text/html": [
       "<div><img onload=\"(function(div, url){\n",
       "if (typeof require !== 'undefined') {\n",
       "    var baseURL = require.toUrl('').split('/').slice(0, -2).join('/');\n",
       "} else {\n",
       "    var baseURL = JSON.parse(\n",
       "        document.getElementById('jupyter-config-data').innerHTML\n",
       "    ).baseUrl.slice(0, -1);\n",
       "}\n",
       "url = baseURL + url;\n",
       "fetch(url).then(function(res) {\n",
       "    if (res.status === 404) {\n",
       "        div.innerHTML = 'Install QIIME 2 Jupyter extension with:<br />' +\n",
       "                        '<code>jupyter serverextension enable --py qiime2' +\n",
       "                        ' --sys-prefix</code><br />then restart your server.' +\n",
       "                        '<br /><br />(Interactive output not available on ' +\n",
       "                        'static notebook viewer services like nbviewer.)';\n",
       "    } else if (res.status === 409) {\n",
       "        div.innerHTML = 'Visualization no longer in scope. Re-run this cell' +\n",
       "                        ' to see the visualization.';\n",
       "    } else if (res.ok) {\n",
       "        url = res.url;\n",
       "        div.innerHTML = '<iframe src=\\'' + url + '\\' style=\\'' +\n",
       "                        'width: 100%; height: 700px; border: 0;\\'>' +\n",
       "                        '</iframe><hr />Open in a: <a href=\\'' + url + '\\'' +\n",
       "                        ' target=\\'_blank\\'>new window</a>'\n",
       "    } else {\n",
       "        div.innerHTML = 'Something has gone wrong. Check notebook server for' +\n",
       "                        ' errors.';\n",
       "    }\n",
       "});\n",
       "})(this.parentElement, '/qiime2/redirect?location=/var/folders/wp/9dsg4hm50lg540x82g1bht1r0000gn/T/qiime2-archive-i8z3g28d')\" src=\"data:image/gif;base64,R0lGODlhAQABAIAAAP///wAAACH5BAEAAAAALAAAAAABAAEAAAICRAEAOw==\" /></div>"
      ],
      "text/plain": [
       "<visualization: Visualization uuid: 182ff713-52c4-4f2c-8556-a4060f5d79be>"
      ]
     },
     "execution_count": 43,
     "metadata": {},
     "output_type": "execute_result"
    }
   ],
   "source": [
    "viz = Visualization.load(\"core-diversity-results/faith-pd-correlation.qzv\")\n",
    "viz"
   ]
  },
  {
   "cell_type": "markdown",
   "id": "0e12d421",
   "metadata": {},
   "source": [
    "### Beta diversity statistical testing "
   ]
  },
  {
   "cell_type": "markdown",
   "id": "b383e31c",
   "metadata": {},
   "source": [
    ">! qiime diversity beta-group-significance \\\n",
    "--i-distance-matrix core-diversity-results/unweighted_unifrac_distance_matrix.qza \\\n",
    "--m-metadata-file metadata.txt \\\n",
    "--m-metadata-column HIV \\\n",
    "--o-visualization core-diversity-results/unweighted-unifrac-HIV-significance.qzv \\\n",
    "--p-pairwise"
   ]
  },
  {
   "cell_type": "code",
   "execution_count": 49,
   "id": "5aca068c",
   "metadata": {},
   "outputs": [
    {
     "data": {
      "text/html": [
       "<div><img onload=\"(function(div, url){\n",
       "if (typeof require !== 'undefined') {\n",
       "    var baseURL = require.toUrl('').split('/').slice(0, -2).join('/');\n",
       "} else {\n",
       "    var baseURL = JSON.parse(\n",
       "        document.getElementById('jupyter-config-data').innerHTML\n",
       "    ).baseUrl.slice(0, -1);\n",
       "}\n",
       "url = baseURL + url;\n",
       "fetch(url).then(function(res) {\n",
       "    if (res.status === 404) {\n",
       "        div.innerHTML = 'Install QIIME 2 Jupyter extension with:<br />' +\n",
       "                        '<code>jupyter serverextension enable --py qiime2' +\n",
       "                        ' --sys-prefix</code><br />then restart your server.' +\n",
       "                        '<br /><br />(Interactive output not available on ' +\n",
       "                        'static notebook viewer services like nbviewer.)';\n",
       "    } else if (res.status === 409) {\n",
       "        div.innerHTML = 'Visualization no longer in scope. Re-run this cell' +\n",
       "                        ' to see the visualization.';\n",
       "    } else if (res.ok) {\n",
       "        url = res.url;\n",
       "        div.innerHTML = '<iframe src=\\'' + url + '\\' style=\\'' +\n",
       "                        'width: 100%; height: 700px; border: 0;\\'>' +\n",
       "                        '</iframe><hr />Open in a: <a href=\\'' + url + '\\'' +\n",
       "                        ' target=\\'_blank\\'>new window</a>'\n",
       "    } else {\n",
       "        div.innerHTML = 'Something has gone wrong. Check notebook server for' +\n",
       "                        ' errors.';\n",
       "    }\n",
       "});\n",
       "})(this.parentElement, '/qiime2/redirect?location=/var/folders/wp/9dsg4hm50lg540x82g1bht1r0000gn/T/qiime2-archive-j6wi9mge')\" src=\"data:image/gif;base64,R0lGODlhAQABAIAAAP///wAAACH5BAEAAAAALAAAAAABAAEAAAICRAEAOw==\" /></div>"
      ],
      "text/plain": [
       "<visualization: Visualization uuid: 1076ef73-3491-498f-bf6d-365ada923a96>"
      ]
     },
     "execution_count": 49,
     "metadata": {},
     "output_type": "execute_result"
    }
   ],
   "source": [
    "viz = Visualization.load(\"core-diversity-results/unweighted-unifrac-HIV-significance.qzv\")\n",
    "viz"
   ]
  },
  {
   "cell_type": "markdown",
   "id": "4baa93cd",
   "metadata": {},
   "source": [
    "## Differential abundance"
   ]
  },
  {
   "cell_type": "markdown",
   "id": "11ca73d7",
   "metadata": {},
   "source": [
    ">! qiime taxa collapse \\\n",
    "--i-table core-diversity-results/rarefied_table.qza \\\n",
    "--i-taxonomy taxonomy-silva.qza --p-level 2 \\\n",
    "--o-collapsed-table core-diversity-results/phylum-rarefied_table.qza"
   ]
  },
  {
   "cell_type": "markdown",
   "id": "26cd52c8",
   "metadata": {},
   "source": [
    ">! qiime composition add-pseudocount \\\n",
    "--i-table core-diversity-results/phylum-rarefied_table.qza \\\n",
    "--o-composition-table core-diversity-results/phylum-pseudo-rarefied_table.qza"
   ]
  },
  {
   "cell_type": "markdown",
   "id": "8e688e3b",
   "metadata": {},
   "source": [
    ">! qiime composition ancom \\\n",
    "--i-table core-diversity-results/phylum-pseudo-rarefied_table.qza \\\n",
    "--m-metadata-file metadata.txt \\\n",
    "--m-metadata-column HIV \\\n",
    "--o-visualization core-diversity-results/ancom-phylum-HIV.qzv"
   ]
  },
  {
   "cell_type": "code",
   "execution_count": 65,
   "id": "ed98333d",
   "metadata": {},
   "outputs": [
    {
     "data": {
      "text/html": [
       "<div><img onload=\"(function(div, url){\n",
       "if (typeof require !== 'undefined') {\n",
       "    var baseURL = require.toUrl('').split('/').slice(0, -2).join('/');\n",
       "} else {\n",
       "    var baseURL = JSON.parse(\n",
       "        document.getElementById('jupyter-config-data').innerHTML\n",
       "    ).baseUrl.slice(0, -1);\n",
       "}\n",
       "url = baseURL + url;\n",
       "fetch(url).then(function(res) {\n",
       "    if (res.status === 404) {\n",
       "        div.innerHTML = 'Install QIIME 2 Jupyter extension with:<br />' +\n",
       "                        '<code>jupyter serverextension enable --py qiime2' +\n",
       "                        ' --sys-prefix</code><br />then restart your server.' +\n",
       "                        '<br /><br />(Interactive output not available on ' +\n",
       "                        'static notebook viewer services like nbviewer.)';\n",
       "    } else if (res.status === 409) {\n",
       "        div.innerHTML = 'Visualization no longer in scope. Re-run this cell' +\n",
       "                        ' to see the visualization.';\n",
       "    } else if (res.ok) {\n",
       "        url = res.url;\n",
       "        div.innerHTML = '<iframe src=\\'' + url + '\\' style=\\'' +\n",
       "                        'width: 100%; height: 700px; border: 0;\\'>' +\n",
       "                        '</iframe><hr />Open in a: <a href=\\'' + url + '\\'' +\n",
       "                        ' target=\\'_blank\\'>new window</a>'\n",
       "    } else {\n",
       "        div.innerHTML = 'Something has gone wrong. Check notebook server for' +\n",
       "                        ' errors.';\n",
       "    }\n",
       "});\n",
       "})(this.parentElement, '/qiime2/redirect?location=/var/folders/wp/9dsg4hm50lg540x82g1bht1r0000gn/T/qiime2-archive-2z91snlv')\" src=\"data:image/gif;base64,R0lGODlhAQABAIAAAP///wAAACH5BAEAAAAALAAAAAABAAEAAAICRAEAOw==\" /></div>"
      ],
      "text/plain": [
       "<visualization: Visualization uuid: a078ccb6-9d82-497c-acd1-93499450193b>"
      ]
     },
     "execution_count": 65,
     "metadata": {},
     "output_type": "execute_result"
    }
   ],
   "source": [
    "viz = Visualization.load(\"core-diversity-results/ancom-phylum-HIV.qzv\")\n",
    "viz"
   ]
  },
  {
   "cell_type": "code",
   "execution_count": 104,
   "id": "908b630a",
   "metadata": {},
   "outputs": [],
   "source": [
    "data = Artifact.load(\"core-diversity-results/phylum-rarefied_table.qza\").view(pd.DataFrame)\n",
    "\n",
    "#convert to relative abundances\n",
    "data_mat = np.matrix(data)\n",
    "data_mat /= np.sum(data_mat, axis=1)\n",
    "data = pd.DataFrame(data_mat, index=data.index, columns=data.columns)\n",
    "\n",
    "metadata = pd.read_csv(\"metadata.txt\", sep=\"\\t\", index_col=\"SampleID\")"
   ]
  },
  {
   "cell_type": "markdown",
   "id": "0c362c80",
   "metadata": {},
   "source": [
    "Currently missing H19-10"
   ]
  },
  {
   "cell_type": "code",
   "execution_count": 105,
   "id": "f5f760c1",
   "metadata": {},
   "outputs": [],
   "source": [
    "metadata = metadata.loc[data.index]"
   ]
  },
  {
   "cell_type": "code",
   "execution_count": 109,
   "id": "77befc9e",
   "metadata": {},
   "outputs": [
    {
     "data": {
      "image/png": "[encoded data removed]",
      "text/plain": [
       "<Figure size 432x288 with 1 Axes>"
      ]
     },
     "metadata": {
      "needs_background": "light"
     },
     "output_type": "display_data"
    }
   ],
   "source": [
    "sns.boxplot(x=metadata[\"HIV\"],\n",
    "            y=data[\"d__Bacteria;p__Bacteroidota\"])\n",
    "plt.show()"
   ]
  },
  {
   "cell_type": "markdown",
   "id": "5b7ed8ba",
   "metadata": {},
   "source": [
    "## Create a L7 tax table for future use"
   ]
  },
  {
   "cell_type": "markdown",
   "id": "3de3114c",
   "metadata": {},
   "source": [
    ">! qiime taxa collapse \\\n",
    "--i-table noMito_noChloro-filtered-table.qza \\\n",
    "--i-taxonomy taxonomy-silva.qza --p-level 7 \\\n",
    "--o-collapsed-table tax_table.qza"
   ]
  },
  {
   "cell_type": "code",
   "execution_count": null,
   "id": "5a8f7946",
   "metadata": {},
   "outputs": [],
   "source": []
  }
 ],
 "metadata": {
  "kernelspec": {
   "display_name": "Python 3 (ipykernel)",
   "language": "python",
   "name": "python3"
  },
  "language_info": {
   "codemirror_mode": {
    "name": "ipython",
    "version": 3
   },
   "file_extension": ".py",
   "mimetype": "text/x-python",
   "name": "python",
   "nbconvert_exporter": "python",
   "pygments_lexer": "ipython3",
   "version": "3.8.12"
  }
 },
 "nbformat": 4,
 "nbformat_minor": 5
}
