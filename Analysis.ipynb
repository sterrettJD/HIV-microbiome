{
 "cells": [
  {
   "cell_type": "markdown",
   "id": "922c2b2c",
   "metadata": {},
   "source": [
    "# Gut Microbiome of HIV+ Individuals in Rural Appalachia"
   ]
  },
  {
   "cell_type": "code",
   "execution_count": 1,
   "id": "038f52da",
   "metadata": {},
   "outputs": [
    {
     "name": "stdout",
     "output_type": "stream",
     "text": [
      "\u001b[32mSystem versions\u001b[0m\n",
      "Python version: 3.8.12\n",
      "QIIME 2 release: 2021.11\n",
      "QIIME 2 version: 2021.11.0\n",
      "q2cli version: 2021.11.0\n",
      "\u001b[32m\n",
      "Installed plugins\u001b[0m\n",
      "alignment: 2021.11.0\n",
      "composition: 2021.11.0\n",
      "cutadapt: 2021.11.0\n",
      "dada2: 2021.11.0\n",
      "deblur: 2021.11.0\n",
      "demux: 2021.11.0\n",
      "diversity: 2021.11.0\n",
      "diversity-lib: 2021.11.0\n",
      "emperor: 2021.11.0\n",
      "feature-classifier: 2021.11.0\n",
      "feature-table: 2021.11.0\n",
      "fragment-insertion: 2021.11.0\n",
      "gneiss: 2021.11.0\n",
      "longitudinal: 2021.11.0\n",
      "metadata: 2021.11.0\n",
      "phylogeny: 2021.11.0\n",
      "quality-control: 2021.11.0\n",
      "quality-filter: 2021.11.0\n",
      "sample-classifier: 2021.11.0\n",
      "taxa: 2021.11.0\n",
      "types: 2021.11.0\n",
      "vsearch: 2021.11.0\n",
      "\u001b[32m\n",
      "Application config directory\u001b[0m\n",
      "/Users/johnsterrett/mambaforge/envs/qiime2-2021.11/var/q2cli\u001b[0m\n",
      "\u001b[32m\n",
      "Getting help\u001b[0m\n",
      "To get help with QIIME 2, visit https://qiime2.org\u001b[0m\n"
     ]
    }
   ],
   "source": [
    "!qiime info"
   ]
  },
  {
   "cell_type": "code",
   "execution_count": 2,
   "id": "07bce670",
   "metadata": {},
   "outputs": [],
   "source": [
    "import os\n",
    "import sys\n",
    "import subprocess\n",
    "\n",
    "from qiime2 import Artifact, Visualization"
   ]
  },
  {
   "cell_type": "markdown",
   "id": "3801bd81",
   "metadata": {},
   "source": [
    "## Initial processing\n",
    "### Unzip files"
   ]
  },
  {
   "cell_type": "markdown",
   "id": "caba0d32",
   "metadata": {},
   "source": [
    "`outputs = []\n",
    "for zipped in os.listdir(\"hiv-fastqs/\"):\n",
    "    bashCommand = f\"unzip hiv-fastqs/{zipped} -d hiv-fastqs/\"\n",
    "    process = subprocess.Popen(bashCommand.split(), stdout=subprocess.PIPE)\n",
    "    output, error = process.communicate()\n",
    "    outputs.append((output,error))\n",
    "`    "
   ]
  },
  {
   "cell_type": "markdown",
   "id": "cb11fcc3",
   "metadata": {},
   "source": [
    "`! rm hiv-fastqs/*.zip`"
   ]
  },
  {
   "cell_type": "markdown",
   "id": "cd1a12c6",
   "metadata": {},
   "source": [
    "### Import data to qiime2 artifact"
   ]
  },
  {
   "cell_type": "markdown",
   "id": "282fe815",
   "metadata": {},
   "source": [
    "`! qiime tools import \\\n",
    "--type 'SampleData[PairedEndSequencesWithQuality]' \\\n",
    "--input-path hiv-fastqs/ \\\n",
    "--input-format CasavaOneEightSingleLanePerSampleDirFmt \\\n",
    "--output-path demux-paired-end.qza`"
   ]
  },
  {
   "cell_type": "markdown",
   "id": "24919753",
   "metadata": {},
   "source": [
    "### Summarize the imported data"
   ]
  },
  {
   "cell_type": "markdown",
   "id": "ff425558",
   "metadata": {},
   "source": [
    "`! qiime demux summarize \\\n",
    "--i-data demux-paired-end.qza \\\n",
    "--o-visualization paired-end-summarized.qzv`"
   ]
  },
  {
   "cell_type": "code",
   "execution_count": 3,
   "id": "de04a73f",
   "metadata": {},
   "outputs": [
    {
     "data": {
      "text/html": [
       "<div><img onload=\"(function(div, url){\n",
       "if (typeof require !== 'undefined') {\n",
       "    var baseURL = require.toUrl('').split('/').slice(0, -2).join('/');\n",
       "} else {\n",
       "    var baseURL = JSON.parse(\n",
       "        document.getElementById('jupyter-config-data').innerHTML\n",
       "    ).baseUrl.slice(0, -1);\n",
       "}\n",
       "url = baseURL + url;\n",
       "fetch(url).then(function(res) {\n",
       "    if (res.status === 404) {\n",
       "        div.innerHTML = 'Install QIIME 2 Jupyter extension with:<br />' +\n",
       "                        '<code>jupyter serverextension enable --py qiime2' +\n",
       "                        ' --sys-prefix</code><br />then restart your server.' +\n",
       "                        '<br /><br />(Interactive output not available on ' +\n",
       "                        'static notebook viewer services like nbviewer.)';\n",
       "    } else if (res.status === 409) {\n",
       "        div.innerHTML = 'Visualization no longer in scope. Re-run this cell' +\n",
       "                        ' to see the visualization.';\n",
       "    } else if (res.ok) {\n",
       "        url = res.url;\n",
       "        div.innerHTML = '<iframe src=\\'' + url + '\\' style=\\'' +\n",
       "                        'width: 100%; height: 700px; border: 0;\\'>' +\n",
       "                        '</iframe><hr />Open in a: <a href=\\'' + url + '\\'' +\n",
       "                        ' target=\\'_blank\\'>new window</a>'\n",
       "    } else {\n",
       "        div.innerHTML = 'Something has gone wrong. Check notebook server for' +\n",
       "                        ' errors.';\n",
       "    }\n",
       "});\n",
       "})(this.parentElement, '/qiime2/redirect?location=/var/folders/wp/9dsg4hm50lg540x82g1bht1r0000gn/T/qiime2-archive-301ao53z')\" src=\"data:image/gif;base64,R0lGODlhAQABAIAAAP///wAAACH5BAEAAAAALAAAAAABAAEAAAICRAEAOw==\" /></div>"
      ],
      "text/plain": [
       "<visualization: Visualization uuid: 93906a1a-5d08-48cc-9412-c0c4fb49e9c0>"
      ]
     },
     "execution_count": 3,
     "metadata": {},
     "output_type": "execute_result"
    }
   ],
   "source": [
    "viz = Visualization.load(\"paired-end-summarized.qzv\")\n",
    "viz"
   ]
  },
  {
   "cell_type": "markdown",
   "id": "4c22dc2d",
   "metadata": {},
   "source": [
    "**Thoughts** - forward\n",
    "\n",
    "- Overall sequence quality looks awesome. \n",
    "- Looks like quality dips over the first 19 reads, which could be primers, so I'll just trim those off.\n",
    "- Looks like it dips at the very end too. At bp 269, 25 percentile of PHRED is still >30, so I'll truncate there.\n",
    "\n",
    "Trimming at 19 and 269 still gives us 250 bp - well more than we need, so that's good!\n",
    "\n",
    "**Thoughts** - reverse\n",
    "- Overall sequence quality looks good. \n",
    "- Not sure if the sequencing folks used reverse primers, so I'll trim at 19 again to be safe. Need to check in on this.\n",
    "- Looks like it dips as it goes on. At bp 240, 50th percentile of PHRED starting to drop < 30, so I'll truncate there.\n",
    "\n",
    "Trimming at 19 and 240 still gives us 221 bp - well more than we need, so that's good!"
   ]
  },
  {
   "cell_type": "markdown",
   "id": "de0b8d52",
   "metadata": {},
   "source": [
    "## Denoise using dada2"
   ]
  },
  {
   "cell_type": "markdown",
   "id": "d8c02879",
   "metadata": {},
   "source": [
    "`! qiime dada2 denoise-paired \\\n",
    "--i-demultiplexed-seqs demux-paired-end.qza \\\n",
    "--p-trim-left-f 19 \\\n",
    "--p-trunc-len-f 269 \\\n",
    "--p-trim-left-r 19 \\\n",
    "--p-trunc-len-r 240 \\\n",
    "--output-dir dada2-out \\\n",
    "--verbose`"
   ]
  },
  {
   "cell_type": "code",
   "execution_count": 9,
   "id": "fc97293e",
   "metadata": {},
   "outputs": [
    {
     "name": "stdout",
     "output_type": "stream",
     "text": [
      "\u001b[32mSaved Visualization to: dada2-out/table.qzv\u001b[0m\r\n",
      "\u001b[0m"
     ]
    }
   ],
   "source": [
    "! qiime feature-table summarize \\\n",
    "--i-table dada2-out/table.qza \\\n",
    "--m-sample-metadata-file metadata.txt \\\n",
    "--o-visualization dada2-out/table.qzv"
   ]
  },
  {
   "cell_type": "code",
   "execution_count": 10,
   "id": "a5f94fcd",
   "metadata": {},
   "outputs": [
    {
     "data": {
      "text/html": [
       "<div><img onload=\"(function(div, url){\n",
       "if (typeof require !== 'undefined') {\n",
       "    var baseURL = require.toUrl('').split('/').slice(0, -2).join('/');\n",
       "} else {\n",
       "    var baseURL = JSON.parse(\n",
       "        document.getElementById('jupyter-config-data').innerHTML\n",
       "    ).baseUrl.slice(0, -1);\n",
       "}\n",
       "url = baseURL + url;\n",
       "fetch(url).then(function(res) {\n",
       "    if (res.status === 404) {\n",
       "        div.innerHTML = 'Install QIIME 2 Jupyter extension with:<br />' +\n",
       "                        '<code>jupyter serverextension enable --py qiime2' +\n",
       "                        ' --sys-prefix</code><br />then restart your server.' +\n",
       "                        '<br /><br />(Interactive output not available on ' +\n",
       "                        'static notebook viewer services like nbviewer.)';\n",
       "    } else if (res.status === 409) {\n",
       "        div.innerHTML = 'Visualization no longer in scope. Re-run this cell' +\n",
       "                        ' to see the visualization.';\n",
       "    } else if (res.ok) {\n",
       "        url = res.url;\n",
       "        div.innerHTML = '<iframe src=\\'' + url + '\\' style=\\'' +\n",
       "                        'width: 100%; height: 700px; border: 0;\\'>' +\n",
       "                        '</iframe><hr />Open in a: <a href=\\'' + url + '\\'' +\n",
       "                        ' target=\\'_blank\\'>new window</a>'\n",
       "    } else {\n",
       "        div.innerHTML = 'Something has gone wrong. Check notebook server for' +\n",
       "                        ' errors.';\n",
       "    }\n",
       "});\n",
       "})(this.parentElement, '/qiime2/redirect?location=/var/folders/wp/9dsg4hm50lg540x82g1bht1r0000gn/T/qiime2-archive-axd_mqz0')\" src=\"data:image/gif;base64,R0lGODlhAQABAIAAAP///wAAACH5BAEAAAAALAAAAAABAAEAAAICRAEAOw==\" /></div>"
      ],
      "text/plain": [
       "<visualization: Visualization uuid: 46b579bf-281c-4673-bf0e-88349ac5606e>"
      ]
     },
     "execution_count": 10,
     "metadata": {},
     "output_type": "execute_result"
    }
   ],
   "source": [
    "viz = Visualization.load(\"dada2-out/table.qzv\")\n",
    "viz"
   ]
  },
  {
   "cell_type": "markdown",
   "id": "51f80b43",
   "metadata": {},
   "source": [
    "## SEPP fragment insertion for phylogenetic tree"
   ]
  },
  {
   "cell_type": "code",
   "execution_count": null,
   "id": "ab295b4b",
   "metadata": {},
   "outputs": [],
   "source": [
    "! qiime fragment-insertion sepp \\\n",
    "--i-representative-sequences dada2-out/representative_sequences.qza \\\n",
    "--i-reference-database sepp-refs-silva-128.qza \\\n",
    "--o-tree insertion-tree.qza \\\n",
    "--o-placements insertion-placements.qza"
   ]
  },
  {
   "cell_type": "code",
   "execution_count": null,
   "id": "e07d5167",
   "metadata": {},
   "outputs": [],
   "source": []
  }
 ],
 "metadata": {
  "kernelspec": {
   "display_name": "Python 3 (ipykernel)",
   "language": "python",
   "name": "python3"
  },
  "language_info": {
   "codemirror_mode": {
    "name": "ipython",
    "version": 3
   },
   "file_extension": ".py",
   "mimetype": "text/x-python",
   "name": "python",
   "nbconvert_exporter": "python",
   "pygments_lexer": "ipython3",
   "version": "3.8.12"
  }
 },
 "nbformat": 4,
 "nbformat_minor": 5
}
